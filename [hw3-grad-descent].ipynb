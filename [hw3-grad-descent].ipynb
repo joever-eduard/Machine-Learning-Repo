{
 "cells": [
  {
   "cell_type": "code",
   "execution_count": 1,
   "id": "50d2f7b5",
   "metadata": {},
   "outputs": [],
   "source": [
    "import numpy as np\n",
    "import pandas as pd\n",
    "import matplotlib.pyplot as plt\n",
    "\n",
    "%matplotlib inline\n",
    "\n",
    "#For standardization\n",
    "from sklearn import preprocessing\n",
    "#For dividing the dataset into train and test sets  \n",
    "from sklearn.model_selection import train_test_split    \n",
    "#For checking MSE and r^2 values   \n",
    "from sklearn.metrics import r2_score, mean_squared_error\n",
    "#For the OLS results\n",
    "from sklearn.linear_model import LinearRegression  "
   ]
  },
  {
   "cell_type": "code",
   "execution_count": 2,
   "id": "fd82feaf",
   "metadata": {},
   "outputs": [
    {
     "name": "stdout",
     "output_type": "stream",
     "text": [
      "Data size is:  (200, 4)\n"
     ]
    },
    {
     "data": {
      "text/html": [
       "<div>\n",
       "<style scoped>\n",
       "    .dataframe tbody tr th:only-of-type {\n",
       "        vertical-align: middle;\n",
       "    }\n",
       "\n",
       "    .dataframe tbody tr th {\n",
       "        vertical-align: top;\n",
       "    }\n",
       "\n",
       "    .dataframe thead th {\n",
       "        text-align: right;\n",
       "    }\n",
       "</style>\n",
       "<table border=\"1\" class=\"dataframe\">\n",
       "  <thead>\n",
       "    <tr style=\"text-align: right;\">\n",
       "      <th></th>\n",
       "      <th>TV</th>\n",
       "      <th>Radio</th>\n",
       "      <th>Newspaper</th>\n",
       "      <th>Sales</th>\n",
       "    </tr>\n",
       "  </thead>\n",
       "  <tbody>\n",
       "    <tr>\n",
       "      <th>1</th>\n",
       "      <td>230.1</td>\n",
       "      <td>37.8</td>\n",
       "      <td>69.2</td>\n",
       "      <td>22.1</td>\n",
       "    </tr>\n",
       "    <tr>\n",
       "      <th>2</th>\n",
       "      <td>44.5</td>\n",
       "      <td>39.3</td>\n",
       "      <td>45.1</td>\n",
       "      <td>10.4</td>\n",
       "    </tr>\n",
       "    <tr>\n",
       "      <th>3</th>\n",
       "      <td>17.2</td>\n",
       "      <td>45.9</td>\n",
       "      <td>69.3</td>\n",
       "      <td>9.3</td>\n",
       "    </tr>\n",
       "    <tr>\n",
       "      <th>4</th>\n",
       "      <td>151.5</td>\n",
       "      <td>41.3</td>\n",
       "      <td>58.5</td>\n",
       "      <td>18.5</td>\n",
       "    </tr>\n",
       "    <tr>\n",
       "      <th>5</th>\n",
       "      <td>180.8</td>\n",
       "      <td>10.8</td>\n",
       "      <td>58.4</td>\n",
       "      <td>12.9</td>\n",
       "    </tr>\n",
       "  </tbody>\n",
       "</table>\n",
       "</div>"
      ],
      "text/plain": [
       "      TV  Radio  Newspaper  Sales\n",
       "1  230.1   37.8       69.2   22.1\n",
       "2   44.5   39.3       45.1   10.4\n",
       "3   17.2   45.9       69.3    9.3\n",
       "4  151.5   41.3       58.5   18.5\n",
       "5  180.8   10.8       58.4   12.9"
      ]
     },
     "execution_count": 2,
     "metadata": {},
     "output_type": "execute_result"
    }
   ],
   "source": [
    "#load avertising data\n",
    "df = pd.read_csv(\"data/Advertising.csv\", index_col = 0)\n",
    "#print size\n",
    "print(\"Data size is: \", df.shape)\n",
    "#display first five rows of the data\n",
    "df.head()"
   ]
  },
  {
   "cell_type": "code",
   "execution_count": 3,
   "id": "f74b6c0d",
   "metadata": {},
   "outputs": [
    {
     "data": {
      "text/html": [
       "<div>\n",
       "<style scoped>\n",
       "    .dataframe tbody tr th:only-of-type {\n",
       "        vertical-align: middle;\n",
       "    }\n",
       "\n",
       "    .dataframe tbody tr th {\n",
       "        vertical-align: top;\n",
       "    }\n",
       "\n",
       "    .dataframe thead th {\n",
       "        text-align: right;\n",
       "    }\n",
       "</style>\n",
       "<table border=\"1\" class=\"dataframe\">\n",
       "  <thead>\n",
       "    <tr style=\"text-align: right;\">\n",
       "      <th></th>\n",
       "      <th>TV</th>\n",
       "      <th>Radio</th>\n",
       "      <th>Newspaper</th>\n",
       "      <th>Sales</th>\n",
       "    </tr>\n",
       "  </thead>\n",
       "  <tbody>\n",
       "    <tr>\n",
       "      <th>count</th>\n",
       "      <td>200.000000</td>\n",
       "      <td>200.000000</td>\n",
       "      <td>200.000000</td>\n",
       "      <td>200.000000</td>\n",
       "    </tr>\n",
       "    <tr>\n",
       "      <th>mean</th>\n",
       "      <td>147.042500</td>\n",
       "      <td>23.264000</td>\n",
       "      <td>30.554000</td>\n",
       "      <td>14.022500</td>\n",
       "    </tr>\n",
       "    <tr>\n",
       "      <th>std</th>\n",
       "      <td>85.854236</td>\n",
       "      <td>14.846809</td>\n",
       "      <td>21.778621</td>\n",
       "      <td>5.217457</td>\n",
       "    </tr>\n",
       "    <tr>\n",
       "      <th>min</th>\n",
       "      <td>0.700000</td>\n",
       "      <td>0.000000</td>\n",
       "      <td>0.300000</td>\n",
       "      <td>1.600000</td>\n",
       "    </tr>\n",
       "    <tr>\n",
       "      <th>25%</th>\n",
       "      <td>74.375000</td>\n",
       "      <td>9.975000</td>\n",
       "      <td>12.750000</td>\n",
       "      <td>10.375000</td>\n",
       "    </tr>\n",
       "    <tr>\n",
       "      <th>50%</th>\n",
       "      <td>149.750000</td>\n",
       "      <td>22.900000</td>\n",
       "      <td>25.750000</td>\n",
       "      <td>12.900000</td>\n",
       "    </tr>\n",
       "    <tr>\n",
       "      <th>75%</th>\n",
       "      <td>218.825000</td>\n",
       "      <td>36.525000</td>\n",
       "      <td>45.100000</td>\n",
       "      <td>17.400000</td>\n",
       "    </tr>\n",
       "    <tr>\n",
       "      <th>max</th>\n",
       "      <td>296.400000</td>\n",
       "      <td>49.600000</td>\n",
       "      <td>114.000000</td>\n",
       "      <td>27.000000</td>\n",
       "    </tr>\n",
       "  </tbody>\n",
       "</table>\n",
       "</div>"
      ],
      "text/plain": [
       "               TV       Radio   Newspaper       Sales\n",
       "count  200.000000  200.000000  200.000000  200.000000\n",
       "mean   147.042500   23.264000   30.554000   14.022500\n",
       "std     85.854236   14.846809   21.778621    5.217457\n",
       "min      0.700000    0.000000    0.300000    1.600000\n",
       "25%     74.375000    9.975000   12.750000   10.375000\n",
       "50%    149.750000   22.900000   25.750000   12.900000\n",
       "75%    218.825000   36.525000   45.100000   17.400000\n",
       "max    296.400000   49.600000  114.000000   27.000000"
      ]
     },
     "execution_count": 3,
     "metadata": {},
     "output_type": "execute_result"
    }
   ],
   "source": [
    "df.describe() # describe functions is used to get the summary of the data\n"
   ]
  },
  {
   "cell_type": "markdown",
   "id": "7db9d0ff",
   "metadata": {},
   "source": [
    "Standardizing columns of the dataset."
   ]
  },
  {
   "cell_type": "code",
   "execution_count": 4,
   "id": "e999fadd",
   "metadata": {},
   "outputs": [
    {
     "data": {
      "text/html": [
       "<div>\n",
       "<style scoped>\n",
       "    .dataframe tbody tr th:only-of-type {\n",
       "        vertical-align: middle;\n",
       "    }\n",
       "\n",
       "    .dataframe tbody tr th {\n",
       "        vertical-align: top;\n",
       "    }\n",
       "\n",
       "    .dataframe thead th {\n",
       "        text-align: right;\n",
       "    }\n",
       "</style>\n",
       "<table border=\"1\" class=\"dataframe\">\n",
       "  <thead>\n",
       "    <tr style=\"text-align: right;\">\n",
       "      <th></th>\n",
       "      <th>TV</th>\n",
       "      <th>Radio</th>\n",
       "      <th>Newspaper</th>\n",
       "      <th>Sales</th>\n",
       "    </tr>\n",
       "  </thead>\n",
       "  <tbody>\n",
       "    <tr>\n",
       "      <th>1</th>\n",
       "      <td>0.967425</td>\n",
       "      <td>0.979066</td>\n",
       "      <td>1.774493</td>\n",
       "      <td>1.548168</td>\n",
       "    </tr>\n",
       "    <tr>\n",
       "      <th>2</th>\n",
       "      <td>-1.194379</td>\n",
       "      <td>1.080097</td>\n",
       "      <td>0.667903</td>\n",
       "      <td>-0.694304</td>\n",
       "    </tr>\n",
       "    <tr>\n",
       "      <th>3</th>\n",
       "      <td>-1.512360</td>\n",
       "      <td>1.524637</td>\n",
       "      <td>1.779084</td>\n",
       "      <td>-0.905135</td>\n",
       "    </tr>\n",
       "    <tr>\n",
       "      <th>4</th>\n",
       "      <td>0.051919</td>\n",
       "      <td>1.214806</td>\n",
       "      <td>1.283185</td>\n",
       "      <td>0.858177</td>\n",
       "    </tr>\n",
       "    <tr>\n",
       "      <th>5</th>\n",
       "      <td>0.393196</td>\n",
       "      <td>-0.839507</td>\n",
       "      <td>1.278593</td>\n",
       "      <td>-0.215143</td>\n",
       "    </tr>\n",
       "    <tr>\n",
       "      <th>...</th>\n",
       "      <td>...</td>\n",
       "      <td>...</td>\n",
       "      <td>...</td>\n",
       "      <td>...</td>\n",
       "    </tr>\n",
       "    <tr>\n",
       "      <th>196</th>\n",
       "      <td>-1.267759</td>\n",
       "      <td>-1.317724</td>\n",
       "      <td>-0.769287</td>\n",
       "      <td>-1.230964</td>\n",
       "    </tr>\n",
       "    <tr>\n",
       "      <th>197</th>\n",
       "      <td>-0.615491</td>\n",
       "      <td>-1.236899</td>\n",
       "      <td>-1.031011</td>\n",
       "      <td>-0.828469</td>\n",
       "    </tr>\n",
       "    <tr>\n",
       "      <th>198</th>\n",
       "      <td>0.348934</td>\n",
       "      <td>-0.940539</td>\n",
       "      <td>-1.109069</td>\n",
       "      <td>-0.234310</td>\n",
       "    </tr>\n",
       "    <tr>\n",
       "      <th>199</th>\n",
       "      <td>1.590574</td>\n",
       "      <td>1.261955</td>\n",
       "      <td>1.636743</td>\n",
       "      <td>2.199827</td>\n",
       "    </tr>\n",
       "    <tr>\n",
       "      <th>200</th>\n",
       "      <td>0.990720</td>\n",
       "      <td>-0.987687</td>\n",
       "      <td>-1.003461</td>\n",
       "      <td>-0.119311</td>\n",
       "    </tr>\n",
       "  </tbody>\n",
       "</table>\n",
       "<p>200 rows × 4 columns</p>\n",
       "</div>"
      ],
      "text/plain": [
       "           TV     Radio  Newspaper     Sales\n",
       "1    0.967425  0.979066   1.774493  1.548168\n",
       "2   -1.194379  1.080097   0.667903 -0.694304\n",
       "3   -1.512360  1.524637   1.779084 -0.905135\n",
       "4    0.051919  1.214806   1.283185  0.858177\n",
       "5    0.393196 -0.839507   1.278593 -0.215143\n",
       "..        ...       ...        ...       ...\n",
       "196 -1.267759 -1.317724  -0.769287 -1.230964\n",
       "197 -0.615491 -1.236899  -1.031011 -0.828469\n",
       "198  0.348934 -0.940539  -1.109069 -0.234310\n",
       "199  1.590574  1.261955   1.636743  2.199827\n",
       "200  0.990720 -0.987687  -1.003461 -0.119311\n",
       "\n",
       "[200 rows x 4 columns]"
      ]
     },
     "execution_count": 4,
     "metadata": {},
     "output_type": "execute_result"
    }
   ],
   "source": [
    "temp_data = df.copy() # temporary dataset containing standarized values\n",
    "\n",
    "# tv standardized values\n",
    "tv_mean = temp_data['TV'].mean()\n",
    "tv_std = temp_data['TV'].std()\n",
    "temp_data['TV'] = (temp_data['TV'] - tv_mean) / tv_std\n",
    "\n",
    "# radio standardized values\n",
    "radio_mean = temp_data['Radio'].mean()\n",
    "radio_std = temp_data['Radio'].std()\n",
    "temp_data['Radio'] = (temp_data['Radio'] - radio_mean) / radio_std\n",
    "\n",
    "# newspater standardized values\n",
    "news_mean = temp_data['Newspaper'].mean()\n",
    "news_std = temp_data['Newspaper'].std()\n",
    "temp_data['Newspaper'] = (temp_data['Newspaper'] - news_mean) / news_std\n",
    "\n",
    "# sales standardized values\n",
    "sales_mean = temp_data['Sales'].mean()\n",
    "sales_std = temp_data['Sales'].std()\n",
    "temp_data['Sales'] = (temp_data['Sales'] - sales_mean) / sales_std\n",
    "\n",
    "temp_data"
   ]
  },
  {
   "cell_type": "markdown",
   "id": "1974970c",
   "metadata": {},
   "source": [
    "Acquired data used with sklearn."
   ]
  },
  {
   "cell_type": "code",
   "execution_count": 5,
   "id": "442e3f6c",
   "metadata": {},
   "outputs": [
    {
     "data": {
      "text/html": [
       "<div>\n",
       "<style scoped>\n",
       "    .dataframe tbody tr th:only-of-type {\n",
       "        vertical-align: middle;\n",
       "    }\n",
       "\n",
       "    .dataframe tbody tr th {\n",
       "        vertical-align: top;\n",
       "    }\n",
       "\n",
       "    .dataframe thead th {\n",
       "        text-align: right;\n",
       "    }\n",
       "</style>\n",
       "<table border=\"1\" class=\"dataframe\">\n",
       "  <thead>\n",
       "    <tr style=\"text-align: right;\">\n",
       "      <th></th>\n",
       "      <th>TV</th>\n",
       "      <th>Radio</th>\n",
       "      <th>Newspaper</th>\n",
       "      <th>Sales</th>\n",
       "    </tr>\n",
       "  </thead>\n",
       "  <tbody>\n",
       "    <tr>\n",
       "      <th>0</th>\n",
       "      <td>0.969852</td>\n",
       "      <td>0.981522</td>\n",
       "      <td>1.778945</td>\n",
       "      <td>1.552053</td>\n",
       "    </tr>\n",
       "    <tr>\n",
       "      <th>1</th>\n",
       "      <td>-1.197376</td>\n",
       "      <td>1.082808</td>\n",
       "      <td>0.669579</td>\n",
       "      <td>-0.696046</td>\n",
       "    </tr>\n",
       "    <tr>\n",
       "      <th>2</th>\n",
       "      <td>-1.516155</td>\n",
       "      <td>1.528463</td>\n",
       "      <td>1.783549</td>\n",
       "      <td>-0.907406</td>\n",
       "    </tr>\n",
       "    <tr>\n",
       "      <th>3</th>\n",
       "      <td>0.052050</td>\n",
       "      <td>1.217855</td>\n",
       "      <td>1.286405</td>\n",
       "      <td>0.860330</td>\n",
       "    </tr>\n",
       "    <tr>\n",
       "      <th>4</th>\n",
       "      <td>0.394182</td>\n",
       "      <td>-0.841614</td>\n",
       "      <td>1.281802</td>\n",
       "      <td>-0.215683</td>\n",
       "    </tr>\n",
       "    <tr>\n",
       "      <th>...</th>\n",
       "      <td>...</td>\n",
       "      <td>...</td>\n",
       "      <td>...</td>\n",
       "      <td>...</td>\n",
       "    </tr>\n",
       "    <tr>\n",
       "      <th>195</th>\n",
       "      <td>-1.270941</td>\n",
       "      <td>-1.321031</td>\n",
       "      <td>-0.771217</td>\n",
       "      <td>-1.234053</td>\n",
       "    </tr>\n",
       "    <tr>\n",
       "      <th>196</th>\n",
       "      <td>-0.617035</td>\n",
       "      <td>-1.240003</td>\n",
       "      <td>-1.033598</td>\n",
       "      <td>-0.830548</td>\n",
       "    </tr>\n",
       "    <tr>\n",
       "      <th>197</th>\n",
       "      <td>0.349810</td>\n",
       "      <td>-0.942899</td>\n",
       "      <td>-1.111852</td>\n",
       "      <td>-0.234898</td>\n",
       "    </tr>\n",
       "    <tr>\n",
       "      <th>198</th>\n",
       "      <td>1.594565</td>\n",
       "      <td>1.265121</td>\n",
       "      <td>1.640850</td>\n",
       "      <td>2.205347</td>\n",
       "    </tr>\n",
       "    <tr>\n",
       "      <th>199</th>\n",
       "      <td>0.993206</td>\n",
       "      <td>-0.990165</td>\n",
       "      <td>-1.005979</td>\n",
       "      <td>-0.119610</td>\n",
       "    </tr>\n",
       "  </tbody>\n",
       "</table>\n",
       "<p>200 rows × 4 columns</p>\n",
       "</div>"
      ],
      "text/plain": [
       "           TV     Radio  Newspaper     Sales\n",
       "0    0.969852  0.981522   1.778945  1.552053\n",
       "1   -1.197376  1.082808   0.669579 -0.696046\n",
       "2   -1.516155  1.528463   1.783549 -0.907406\n",
       "3    0.052050  1.217855   1.286405  0.860330\n",
       "4    0.394182 -0.841614   1.281802 -0.215683\n",
       "..        ...       ...        ...       ...\n",
       "195 -1.270941 -1.321031  -0.771217 -1.234053\n",
       "196 -0.617035 -1.240003  -1.033598 -0.830548\n",
       "197  0.349810 -0.942899  -1.111852 -0.234898\n",
       "198  1.594565  1.265121   1.640850  2.205347\n",
       "199  0.993206 -0.990165  -1.005979 -0.119610\n",
       "\n",
       "[200 rows x 4 columns]"
      ]
     },
     "execution_count": 5,
     "metadata": {},
     "output_type": "execute_result"
    }
   ],
   "source": [
    "# sklearn preprocessing.scale function\n",
    "df_standardize = preprocessing.scale(df)\n",
    "\n",
    "#Convert standardized data to dataset\n",
    "df_standardize = pd.DataFrame(df_standardize, columns = df.columns)\n",
    "\n",
    "df_standardize"
   ]
  },
  {
   "cell_type": "markdown",
   "id": "33fdc01a",
   "metadata": {},
   "source": [
    "Adding extra column composing of all ones to X."
   ]
  },
  {
   "cell_type": "code",
   "execution_count": 6,
   "id": "5f27300f",
   "metadata": {},
   "outputs": [
    {
     "data": {
      "text/html": [
       "<div>\n",
       "<style scoped>\n",
       "    .dataframe tbody tr th:only-of-type {\n",
       "        vertical-align: middle;\n",
       "    }\n",
       "\n",
       "    .dataframe tbody tr th {\n",
       "        vertical-align: top;\n",
       "    }\n",
       "\n",
       "    .dataframe thead th {\n",
       "        text-align: right;\n",
       "    }\n",
       "</style>\n",
       "<table border=\"1\" class=\"dataframe\">\n",
       "  <thead>\n",
       "    <tr style=\"text-align: right;\">\n",
       "      <th></th>\n",
       "      <th>all_ones</th>\n",
       "      <th>TV</th>\n",
       "      <th>Radio</th>\n",
       "      <th>Newspaper</th>\n",
       "      <th>Sales</th>\n",
       "    </tr>\n",
       "  </thead>\n",
       "  <tbody>\n",
       "    <tr>\n",
       "      <th>0</th>\n",
       "      <td>1</td>\n",
       "      <td>0.969852</td>\n",
       "      <td>0.981522</td>\n",
       "      <td>1.778945</td>\n",
       "      <td>1.552053</td>\n",
       "    </tr>\n",
       "    <tr>\n",
       "      <th>1</th>\n",
       "      <td>1</td>\n",
       "      <td>-1.197376</td>\n",
       "      <td>1.082808</td>\n",
       "      <td>0.669579</td>\n",
       "      <td>-0.696046</td>\n",
       "    </tr>\n",
       "    <tr>\n",
       "      <th>2</th>\n",
       "      <td>1</td>\n",
       "      <td>-1.516155</td>\n",
       "      <td>1.528463</td>\n",
       "      <td>1.783549</td>\n",
       "      <td>-0.907406</td>\n",
       "    </tr>\n",
       "    <tr>\n",
       "      <th>3</th>\n",
       "      <td>1</td>\n",
       "      <td>0.052050</td>\n",
       "      <td>1.217855</td>\n",
       "      <td>1.286405</td>\n",
       "      <td>0.860330</td>\n",
       "    </tr>\n",
       "    <tr>\n",
       "      <th>4</th>\n",
       "      <td>1</td>\n",
       "      <td>0.394182</td>\n",
       "      <td>-0.841614</td>\n",
       "      <td>1.281802</td>\n",
       "      <td>-0.215683</td>\n",
       "    </tr>\n",
       "    <tr>\n",
       "      <th>...</th>\n",
       "      <td>...</td>\n",
       "      <td>...</td>\n",
       "      <td>...</td>\n",
       "      <td>...</td>\n",
       "      <td>...</td>\n",
       "    </tr>\n",
       "    <tr>\n",
       "      <th>195</th>\n",
       "      <td>1</td>\n",
       "      <td>-1.270941</td>\n",
       "      <td>-1.321031</td>\n",
       "      <td>-0.771217</td>\n",
       "      <td>-1.234053</td>\n",
       "    </tr>\n",
       "    <tr>\n",
       "      <th>196</th>\n",
       "      <td>1</td>\n",
       "      <td>-0.617035</td>\n",
       "      <td>-1.240003</td>\n",
       "      <td>-1.033598</td>\n",
       "      <td>-0.830548</td>\n",
       "    </tr>\n",
       "    <tr>\n",
       "      <th>197</th>\n",
       "      <td>1</td>\n",
       "      <td>0.349810</td>\n",
       "      <td>-0.942899</td>\n",
       "      <td>-1.111852</td>\n",
       "      <td>-0.234898</td>\n",
       "    </tr>\n",
       "    <tr>\n",
       "      <th>198</th>\n",
       "      <td>1</td>\n",
       "      <td>1.594565</td>\n",
       "      <td>1.265121</td>\n",
       "      <td>1.640850</td>\n",
       "      <td>2.205347</td>\n",
       "    </tr>\n",
       "    <tr>\n",
       "      <th>199</th>\n",
       "      <td>1</td>\n",
       "      <td>0.993206</td>\n",
       "      <td>-0.990165</td>\n",
       "      <td>-1.005979</td>\n",
       "      <td>-0.119610</td>\n",
       "    </tr>\n",
       "  </tbody>\n",
       "</table>\n",
       "<p>200 rows × 5 columns</p>\n",
       "</div>"
      ],
      "text/plain": [
       "     all_ones        TV     Radio  Newspaper     Sales\n",
       "0           1  0.969852  0.981522   1.778945  1.552053\n",
       "1           1 -1.197376  1.082808   0.669579 -0.696046\n",
       "2           1 -1.516155  1.528463   1.783549 -0.907406\n",
       "3           1  0.052050  1.217855   1.286405  0.860330\n",
       "4           1  0.394182 -0.841614   1.281802 -0.215683\n",
       "..        ...       ...       ...        ...       ...\n",
       "195         1 -1.270941 -1.321031  -0.771217 -1.234053\n",
       "196         1 -0.617035 -1.240003  -1.033598 -0.830548\n",
       "197         1  0.349810 -0.942899  -1.111852 -0.234898\n",
       "198         1  1.594565  1.265121   1.640850  2.205347\n",
       "199         1  0.993206 -0.990165  -1.005979 -0.119610\n",
       "\n",
       "[200 rows x 5 columns]"
      ]
     },
     "execution_count": 6,
     "metadata": {},
     "output_type": "execute_result"
    }
   ],
   "source": [
    "df_standardize.insert(0, 'all_ones', 1)\n",
    "df_standardize"
   ]
  },
  {
   "cell_type": "markdown",
   "id": "e7862c1e",
   "metadata": {},
   "source": [
    " Divide the dataset into training and testing, with 0.85 and 0.25 ratio, respectively."
   ]
  },
  {
   "cell_type": "code",
   "execution_count": 7,
   "id": "d80ae3b9",
   "metadata": {},
   "outputs": [],
   "source": [
    "# type of advertising selection\n",
    "features = df_standardize[['all_ones', 'TV', 'Radio', 'Newspaper']]\n",
    "target = df_standardize['Sales'] # target - sales column dependent variable\n",
    "# 0.85 ratio for training and 0.25 ratio for testing\n",
    "X_train, X_test, y_train, y_test = train_test_split(features, target, train_size = 0.75, test_size = 0.25)\n"
   ]
  },
  {
   "cell_type": "markdown",
   "id": "650fc26d",
   "metadata": {},
   "source": [
    "ratio is changed to 0.75 for training because 0.85 causes an error"
   ]
  },
  {
   "cell_type": "markdown",
   "id": "c963b520",
   "metadata": {},
   "source": [
    "Fit the model on the training set. Required Functions"
   ]
  },
  {
   "cell_type": "markdown",
   "id": "af02dc49",
   "metadata": {},
   "source": [
    " initialize_weights"
   ]
  },
  {
   "cell_type": "code",
   "execution_count": 8,
   "id": "588ff853",
   "metadata": {},
   "outputs": [],
   "source": [
    "def initialize_weights(X, random = False):\n",
    "    X_len = X.shape[1] # number of columns in x is equal to the weight lengths\n",
    "    if random: # if the length is random, it will be initialized randomly too\n",
    "        return np.random.rand(X_len)\n",
    "    return np.zeros(X_len) # else return zero or initialized to zero"
   ]
  },
  {
   "cell_type": "code",
   "execution_count": 9,
   "id": "70ff15a2",
   "metadata": {},
   "outputs": [
    {
     "data": {
      "text/plain": [
       "array([0.00649393, 0.64187044, 0.26814734, 0.18595929])"
      ]
     },
     "execution_count": 9,
     "metadata": {},
     "output_type": "execute_result"
    }
   ],
   "source": [
    "# function testing\n",
    "weights = initialize_weights(X_train, random = True)\n",
    "weights"
   ]
  },
  {
   "cell_type": "code",
   "execution_count": 10,
   "id": "e3ff4669",
   "metadata": {},
   "outputs": [
    {
     "data": {
      "text/plain": [
       "array([0., 0., 0., 0.])"
      ]
     },
     "execution_count": 10,
     "metadata": {},
     "output_type": "execute_result"
    }
   ],
   "source": [
    "weights = initialize_weights(X_train)\n",
    "weights"
   ]
  },
  {
   "cell_type": "markdown",
   "id": "80cebae0",
   "metadata": {},
   "source": [
    "predict: returns a vector of the predicted values "
   ]
  },
  {
   "cell_type": "code",
   "execution_count": 11,
   "id": "e6fdc423",
   "metadata": {},
   "outputs": [],
   "source": [
    "def predict(X, weights):\n",
    "    #Using numpy's dot product function to multiply every weight to its interrelated feature from x\n",
    "    return np.dot(X, weights)"
   ]
  },
  {
   "cell_type": "code",
   "execution_count": 12,
   "id": "3b6390a7",
   "metadata": {},
   "outputs": [
    {
     "data": {
      "text/html": [
       "<div>\n",
       "<style scoped>\n",
       "    .dataframe tbody tr th:only-of-type {\n",
       "        vertical-align: middle;\n",
       "    }\n",
       "\n",
       "    .dataframe tbody tr th {\n",
       "        vertical-align: top;\n",
       "    }\n",
       "\n",
       "    .dataframe thead th {\n",
       "        text-align: right;\n",
       "    }\n",
       "</style>\n",
       "<table border=\"1\" class=\"dataframe\">\n",
       "  <thead>\n",
       "    <tr style=\"text-align: right;\">\n",
       "      <th></th>\n",
       "      <th>Actual Values</th>\n",
       "      <th>Predicted Values</th>\n",
       "    </tr>\n",
       "  </thead>\n",
       "  <tbody>\n",
       "    <tr>\n",
       "      <th>193</th>\n",
       "      <td>1.071690</td>\n",
       "      <td>0.627489</td>\n",
       "    </tr>\n",
       "    <tr>\n",
       "      <th>147</th>\n",
       "      <td>2.186132</td>\n",
       "      <td>2.053090</td>\n",
       "    </tr>\n",
       "    <tr>\n",
       "      <th>122</th>\n",
       "      <td>-0.465472</td>\n",
       "      <td>-0.566621</td>\n",
       "    </tr>\n",
       "    <tr>\n",
       "      <th>55</th>\n",
       "      <td>1.859486</td>\n",
       "      <td>2.506248</td>\n",
       "    </tr>\n",
       "    <tr>\n",
       "      <th>171</th>\n",
       "      <td>0.091749</td>\n",
       "      <td>1.041238</td>\n",
       "    </tr>\n",
       "    <tr>\n",
       "      <th>...</th>\n",
       "      <td>...</td>\n",
       "      <td>...</td>\n",
       "    </tr>\n",
       "    <tr>\n",
       "      <th>131</th>\n",
       "      <td>-0.254112</td>\n",
       "      <td>0.228504</td>\n",
       "    </tr>\n",
       "    <tr>\n",
       "      <th>137</th>\n",
       "      <td>1.302264</td>\n",
       "      <td>1.709270</td>\n",
       "    </tr>\n",
       "    <tr>\n",
       "      <th>130</th>\n",
       "      <td>-2.386924</td>\n",
       "      <td>0.661145</td>\n",
       "    </tr>\n",
       "    <tr>\n",
       "      <th>36</th>\n",
       "      <td>2.186132</td>\n",
       "      <td>0.746908</td>\n",
       "    </tr>\n",
       "    <tr>\n",
       "      <th>150</th>\n",
       "      <td>0.399182</td>\n",
       "      <td>0.488277</td>\n",
       "    </tr>\n",
       "  </tbody>\n",
       "</table>\n",
       "<p>150 rows × 2 columns</p>\n",
       "</div>"
      ],
      "text/plain": [
       "     Actual Values  Predicted Values\n",
       "193       1.071690          0.627489\n",
       "147       2.186132          2.053090\n",
       "122      -0.465472         -0.566621\n",
       "55        1.859486          2.506248\n",
       "171       0.091749          1.041238\n",
       "..             ...               ...\n",
       "131      -0.254112          0.228504\n",
       "137       1.302264          1.709270\n",
       "130      -2.386924          0.661145\n",
       "36        2.186132          0.746908\n",
       "150       0.399182          0.488277\n",
       "\n",
       "[150 rows x 2 columns]"
      ]
     },
     "execution_count": 12,
     "metadata": {},
     "output_type": "execute_result"
    }
   ],
   "source": [
    "#Predict the training set's values using a random set of weights\n",
    "y_hat_train = predict(X_train, initialize_weights(X_train, random = True))\n",
    "\n",
    "# comparing predicted and actual values\n",
    "df_train = pd.DataFrame({'Actual Values': y_train, 'Predicted Values': y_hat_train})\n",
    "df_train"
   ]
  },
  {
   "cell_type": "markdown",
   "id": "e6e84594",
   "metadata": {},
   "source": [
    "compute_cost: returns a scalar value that tells us how accurate the model is."
   ]
  },
  {
   "cell_type": "code",
   "execution_count": 13,
   "id": "6b340912",
   "metadata": {},
   "outputs": [],
   "source": [
    "def compute_cost(X, y, weights):  \n",
    "    m = len(y) # length of the response\n",
    "    \n",
    "    cost_function = 1/(2*m) * np.sum((predict(X, weights) - y)**2)\n",
    "    return cost_function"
   ]
  },
  {
   "cell_type": "code",
   "execution_count": 14,
   "id": "5ec08b35",
   "metadata": {},
   "outputs": [
    {
     "name": "stdout",
     "output_type": "stream",
     "text": [
      "0.5713384974752551\n"
     ]
    }
   ],
   "source": [
    "#Print the cost function of the training set utilizing a random set of weights\n",
    "cost_test = compute_cost(X_train, y_train, initialize_weights(X_train, random = True))\n",
    "print(cost_test)"
   ]
  },
  {
   "cell_type": "markdown",
   "id": "fb80b552",
   "metadata": {},
   "source": [
    "compute_gradient:"
   ]
  },
  {
   "cell_type": "code",
   "execution_count": 15,
   "id": "fcdc445e",
   "metadata": {},
   "outputs": [],
   "source": [
    "def compute_gradient(X, y, weights):\n",
    "    m = len(y)\n",
    "    w = 1/m * np.dot(X.T, (predict(X, weights) - y))\n",
    "\n",
    "    return w     #returns matrix w"
   ]
  },
  {
   "cell_type": "markdown",
   "id": "166882db",
   "metadata": {},
   "source": [
    "update_weights: returns a 4x1 matrix that contains the updated weights. "
   ]
  },
  {
   "cell_type": "code",
   "execution_count": 16,
   "id": "f71db26d",
   "metadata": {},
   "outputs": [],
   "source": [
    "def update_weights(X, y, weights, alpha):\n",
    "    return weights - alpha * compute_gradient(X, y, weights)"
   ]
  },
  {
   "cell_type": "markdown",
   "id": "74dd1916",
   "metadata": {},
   "source": [
    "grad_descent: returns 2 matrices: one matrix for the weights, and one matrix for the \n",
    "cost values per iteration."
   ]
  },
  {
   "cell_type": "code",
   "execution_count": 17,
   "id": "c01ea1dd",
   "metadata": {},
   "outputs": [],
   "source": [
    "def grad_descent(X, y, weights, alpha, iterations):  #Initialization of the two matrices\n",
    "    weights_matrix = [0] * iterations\n",
    "    cost_matrix = [0] * iterations\n",
    "\n",
    "    for j in range(iterations):  # Looping through the no. of iterations and utilizing batch gradient descent\n",
    "        weights = update_weights(X, y, weights, alpha)     #Updating weights\n",
    "        weights_matrix[j] = weights #Store the weights in the weights matrix\n",
    "        cost = compute_cost(X, y, weights)  #Computing cost\n",
    "        cost_matrix[j] = cost  #Store the cost in the cost matrix\n",
    "    return weights_matrix, cost_matrix"
   ]
  },
  {
   "cell_type": "markdown",
   "id": "a3f3fc79",
   "metadata": {},
   "source": [
    "plot_costs: plot the costs as a function of iteration."
   ]
  },
  {
   "cell_type": "code",
   "execution_count": 18,
   "id": "e642a65e",
   "metadata": {},
   "outputs": [],
   "source": [
    "def plot_costs(cost_array): #Size of the plot\n",
    "    plt.figure(figsize=(15,8))\n",
    "    plt.plot(cost_array)\n",
    "    plt.xlabel('Iterations')\n",
    "    plt.ylabel('Cost')\n",
    "    plt.title('Cost over Iterations')\n",
    "    plt.show()"
   ]
  },
  {
   "cell_type": "markdown",
   "id": "66b1792a",
   "metadata": {},
   "source": [
    "Predict y for train set and calculate the cost."
   ]
  },
  {
   "cell_type": "code",
   "execution_count": 19,
   "id": "a2a94be9",
   "metadata": {},
   "outputs": [
    {
     "data": {
      "text/html": [
       "<div>\n",
       "<style scoped>\n",
       "    .dataframe tbody tr th:only-of-type {\n",
       "        vertical-align: middle;\n",
       "    }\n",
       "\n",
       "    .dataframe tbody tr th {\n",
       "        vertical-align: top;\n",
       "    }\n",
       "\n",
       "    .dataframe thead th {\n",
       "        text-align: right;\n",
       "    }\n",
       "</style>\n",
       "<table border=\"1\" class=\"dataframe\">\n",
       "  <thead>\n",
       "    <tr style=\"text-align: right;\">\n",
       "      <th></th>\n",
       "      <th>Actual Values</th>\n",
       "      <th>Predicted Values</th>\n",
       "    </tr>\n",
       "  </thead>\n",
       "  <tbody>\n",
       "    <tr>\n",
       "      <th>193</th>\n",
       "      <td>1.071690</td>\n",
       "      <td>0.784684</td>\n",
       "    </tr>\n",
       "    <tr>\n",
       "      <th>147</th>\n",
       "      <td>2.186132</td>\n",
       "      <td>2.290758</td>\n",
       "    </tr>\n",
       "    <tr>\n",
       "      <th>122</th>\n",
       "      <td>-0.465472</td>\n",
       "      <td>-0.240004</td>\n",
       "    </tr>\n",
       "    <tr>\n",
       "      <th>55</th>\n",
       "      <td>1.859486</td>\n",
       "      <td>2.109259</td>\n",
       "    </tr>\n",
       "    <tr>\n",
       "      <th>171</th>\n",
       "      <td>0.091749</td>\n",
       "      <td>0.420657</td>\n",
       "    </tr>\n",
       "    <tr>\n",
       "      <th>...</th>\n",
       "      <td>...</td>\n",
       "      <td>...</td>\n",
       "    </tr>\n",
       "    <tr>\n",
       "      <th>131</th>\n",
       "      <td>-0.254112</td>\n",
       "      <td>0.501718</td>\n",
       "    </tr>\n",
       "    <tr>\n",
       "      <th>137</th>\n",
       "      <td>1.302264</td>\n",
       "      <td>1.902576</td>\n",
       "    </tr>\n",
       "    <tr>\n",
       "      <th>130</th>\n",
       "      <td>-2.386924</td>\n",
       "      <td>-0.748216</td>\n",
       "    </tr>\n",
       "    <tr>\n",
       "      <th>36</th>\n",
       "      <td>2.186132</td>\n",
       "      <td>1.780652</td>\n",
       "    </tr>\n",
       "    <tr>\n",
       "      <th>150</th>\n",
       "      <td>0.399182</td>\n",
       "      <td>1.034931</td>\n",
       "    </tr>\n",
       "  </tbody>\n",
       "</table>\n",
       "<p>150 rows × 2 columns</p>\n",
       "</div>"
      ],
      "text/plain": [
       "     Actual Values  Predicted Values\n",
       "193       1.071690          0.784684\n",
       "147       2.186132          2.290758\n",
       "122      -0.465472         -0.240004\n",
       "55        1.859486          2.109259\n",
       "171       0.091749          0.420657\n",
       "..             ...               ...\n",
       "131      -0.254112          0.501718\n",
       "137       1.302264          1.902576\n",
       "130      -2.386924         -0.748216\n",
       "36        2.186132          1.780652\n",
       "150       0.399182          1.034931\n",
       "\n",
       "[150 rows x 2 columns]"
      ]
     },
     "execution_count": 19,
     "metadata": {},
     "output_type": "execute_result"
    }
   ],
   "source": [
    "weights = initialize_weights(X_train, random = True)\n",
    "y_hat_train = predict(X_train, weights)\n",
    "y_hat_train_df = pd.DataFrame({'Actual Values': y_train, 'Predicted Values': y_hat_train})\n",
    "y_hat_train_df"
   ]
  },
  {
   "cell_type": "code",
   "execution_count": 20,
   "id": "95ec0f84",
   "metadata": {},
   "outputs": [
    {
     "data": {
      "text/plain": [
       "0.11417052423188868"
      ]
     },
     "execution_count": 20,
     "metadata": {},
     "output_type": "execute_result"
    }
   ],
   "source": [
    "# formula for getting the cost of the predicted values\n",
    "train_cost = compute_cost(X_train, y_train, weights)\n",
    "train_cost"
   ]
  },
  {
   "cell_type": "markdown",
   "id": "a3c48484",
   "metadata": {},
   "source": [
    "Predict y for test set and calculate the cost."
   ]
  },
  {
   "cell_type": "code",
   "execution_count": 21,
   "id": "05c4f79e",
   "metadata": {},
   "outputs": [
    {
     "data": {
      "text/html": [
       "<div>\n",
       "<style scoped>\n",
       "    .dataframe tbody tr th:only-of-type {\n",
       "        vertical-align: middle;\n",
       "    }\n",
       "\n",
       "    .dataframe tbody tr th {\n",
       "        vertical-align: top;\n",
       "    }\n",
       "\n",
       "    .dataframe thead th {\n",
       "        text-align: right;\n",
       "    }\n",
       "</style>\n",
       "<table border=\"1\" class=\"dataframe\">\n",
       "  <thead>\n",
       "    <tr style=\"text-align: right;\">\n",
       "      <th></th>\n",
       "      <th>Actual Values</th>\n",
       "      <th>Predicted Values</th>\n",
       "      <th>Residual Values</th>\n",
       "    </tr>\n",
       "  </thead>\n",
       "  <tbody>\n",
       "    <tr>\n",
       "      <th>187</th>\n",
       "      <td>0.629756</td>\n",
       "      <td>0.485105</td>\n",
       "      <td>0.144651</td>\n",
       "    </tr>\n",
       "    <tr>\n",
       "      <th>67</th>\n",
       "      <td>-0.119610</td>\n",
       "      <td>-0.304583</td>\n",
       "      <td>0.184973</td>\n",
       "    </tr>\n",
       "    <tr>\n",
       "      <th>15</th>\n",
       "      <td>1.609697</td>\n",
       "      <td>1.047117</td>\n",
       "      <td>0.562580</td>\n",
       "    </tr>\n",
       "    <tr>\n",
       "      <th>196</th>\n",
       "      <td>-0.830548</td>\n",
       "      <td>-0.916625</td>\n",
       "      <td>0.086078</td>\n",
       "    </tr>\n",
       "    <tr>\n",
       "      <th>104</th>\n",
       "      <td>1.283050</td>\n",
       "      <td>0.977250</td>\n",
       "      <td>0.305800</td>\n",
       "    </tr>\n",
       "    <tr>\n",
       "      <th>149</th>\n",
       "      <td>-0.753690</td>\n",
       "      <td>-0.874394</td>\n",
       "      <td>0.120704</td>\n",
       "    </tr>\n",
       "    <tr>\n",
       "      <th>6</th>\n",
       "      <td>-0.427043</td>\n",
       "      <td>-0.602547</td>\n",
       "      <td>0.175504</td>\n",
       "    </tr>\n",
       "    <tr>\n",
       "      <th>165</th>\n",
       "      <td>-0.407828</td>\n",
       "      <td>0.578764</td>\n",
       "      <td>-0.986592</td>\n",
       "    </tr>\n",
       "    <tr>\n",
       "      <th>23</th>\n",
       "      <td>0.283895</td>\n",
       "      <td>0.597719</td>\n",
       "      <td>-0.313825</td>\n",
       "    </tr>\n",
       "    <tr>\n",
       "      <th>138</th>\n",
       "      <td>-0.849762</td>\n",
       "      <td>-0.887827</td>\n",
       "      <td>0.038065</td>\n",
       "    </tr>\n",
       "    <tr>\n",
       "      <th>2</th>\n",
       "      <td>-0.907406</td>\n",
       "      <td>-0.523105</td>\n",
       "      <td>-0.384301</td>\n",
       "    </tr>\n",
       "    <tr>\n",
       "      <th>43</th>\n",
       "      <td>-0.215683</td>\n",
       "      <td>0.228634</td>\n",
       "      <td>-0.444317</td>\n",
       "    </tr>\n",
       "    <tr>\n",
       "      <th>123</th>\n",
       "      <td>0.226251</td>\n",
       "      <td>-0.018697</td>\n",
       "      <td>0.244948</td>\n",
       "    </tr>\n",
       "    <tr>\n",
       "      <th>110</th>\n",
       "      <td>-0.119610</td>\n",
       "      <td>0.500815</td>\n",
       "      <td>-0.620426</td>\n",
       "    </tr>\n",
       "    <tr>\n",
       "      <th>19</th>\n",
       "      <td>0.110964</td>\n",
       "      <td>-0.003669</td>\n",
       "      <td>0.114632</td>\n",
       "    </tr>\n",
       "    <tr>\n",
       "      <th>161</th>\n",
       "      <td>-0.138825</td>\n",
       "      <td>-0.195421</td>\n",
       "      <td>0.056596</td>\n",
       "    </tr>\n",
       "    <tr>\n",
       "      <th>128</th>\n",
       "      <td>2.051631</td>\n",
       "      <td>1.119031</td>\n",
       "      <td>0.932599</td>\n",
       "    </tr>\n",
       "    <tr>\n",
       "      <th>139</th>\n",
       "      <td>1.283050</td>\n",
       "      <td>0.690364</td>\n",
       "      <td>0.592686</td>\n",
       "    </tr>\n",
       "    <tr>\n",
       "      <th>62</th>\n",
       "      <td>0.322324</td>\n",
       "      <td>0.670425</td>\n",
       "      <td>-0.348102</td>\n",
       "    </tr>\n",
       "    <tr>\n",
       "      <th>188</th>\n",
       "      <td>0.360753</td>\n",
       "      <td>0.969335</td>\n",
       "      <td>-0.608582</td>\n",
       "    </tr>\n",
       "    <tr>\n",
       "      <th>41</th>\n",
       "      <td>0.591327</td>\n",
       "      <td>0.531358</td>\n",
       "      <td>0.059969</td>\n",
       "    </tr>\n",
       "    <tr>\n",
       "      <th>144</th>\n",
       "      <td>-0.503901</td>\n",
       "      <td>-0.580448</td>\n",
       "      <td>0.076547</td>\n",
       "    </tr>\n",
       "    <tr>\n",
       "      <th>82</th>\n",
       "      <td>-0.523115</td>\n",
       "      <td>-0.674284</td>\n",
       "      <td>0.151169</td>\n",
       "    </tr>\n",
       "    <tr>\n",
       "      <th>42</th>\n",
       "      <td>1.283050</td>\n",
       "      <td>1.320577</td>\n",
       "      <td>-0.037528</td>\n",
       "    </tr>\n",
       "    <tr>\n",
       "      <th>11</th>\n",
       "      <td>0.648971</td>\n",
       "      <td>0.546201</td>\n",
       "      <td>0.102770</td>\n",
       "    </tr>\n",
       "    <tr>\n",
       "      <th>3</th>\n",
       "      <td>0.860330</td>\n",
       "      <td>0.540614</td>\n",
       "      <td>0.319716</td>\n",
       "    </tr>\n",
       "    <tr>\n",
       "      <th>28</th>\n",
       "      <td>0.937188</td>\n",
       "      <td>0.983431</td>\n",
       "      <td>-0.046242</td>\n",
       "    </tr>\n",
       "    <tr>\n",
       "      <th>81</th>\n",
       "      <td>-0.330970</td>\n",
       "      <td>0.469505</td>\n",
       "      <td>-0.800475</td>\n",
       "    </tr>\n",
       "    <tr>\n",
       "      <th>108</th>\n",
       "      <td>-1.675987</td>\n",
       "      <td>-1.672751</td>\n",
       "      <td>-0.003235</td>\n",
       "    </tr>\n",
       "    <tr>\n",
       "      <th>169</th>\n",
       "      <td>0.187822</td>\n",
       "      <td>0.894421</td>\n",
       "      <td>-0.706599</td>\n",
       "    </tr>\n",
       "    <tr>\n",
       "      <th>195</th>\n",
       "      <td>-1.234053</td>\n",
       "      <td>-1.421459</td>\n",
       "      <td>0.187406</td>\n",
       "    </tr>\n",
       "    <tr>\n",
       "      <th>72</th>\n",
       "      <td>-1.003478</td>\n",
       "      <td>-0.887460</td>\n",
       "      <td>-0.116019</td>\n",
       "    </tr>\n",
       "    <tr>\n",
       "      <th>180</th>\n",
       "      <td>-0.676832</td>\n",
       "      <td>-0.407149</td>\n",
       "      <td>-0.269683</td>\n",
       "    </tr>\n",
       "    <tr>\n",
       "      <th>177</th>\n",
       "      <td>-0.446257</td>\n",
       "      <td>-0.080181</td>\n",
       "      <td>-0.366076</td>\n",
       "    </tr>\n",
       "    <tr>\n",
       "      <th>57</th>\n",
       "      <td>-0.158039</td>\n",
       "      <td>-0.210543</td>\n",
       "      <td>0.052504</td>\n",
       "    </tr>\n",
       "    <tr>\n",
       "      <th>86</th>\n",
       "      <td>-0.388614</td>\n",
       "      <td>-0.572963</td>\n",
       "      <td>0.184350</td>\n",
       "    </tr>\n",
       "    <tr>\n",
       "      <th>148</th>\n",
       "      <td>-0.599973</td>\n",
       "      <td>-0.660424</td>\n",
       "      <td>0.060451</td>\n",
       "    </tr>\n",
       "    <tr>\n",
       "      <th>46</th>\n",
       "      <td>-0.657617</td>\n",
       "      <td>-0.752962</td>\n",
       "      <td>0.095345</td>\n",
       "    </tr>\n",
       "    <tr>\n",
       "      <th>134</th>\n",
       "      <td>-0.619188</td>\n",
       "      <td>-0.513952</td>\n",
       "      <td>-0.105236</td>\n",
       "    </tr>\n",
       "    <tr>\n",
       "      <th>17</th>\n",
       "      <td>1.993987</td>\n",
       "      <td>1.654996</td>\n",
       "      <td>0.338992</td>\n",
       "    </tr>\n",
       "    <tr>\n",
       "      <th>105</th>\n",
       "      <td>0.994832</td>\n",
       "      <td>0.528219</td>\n",
       "      <td>0.466613</td>\n",
       "    </tr>\n",
       "    <tr>\n",
       "      <th>129</th>\n",
       "      <td>-0.830548</td>\n",
       "      <td>-0.951081</td>\n",
       "      <td>0.120534</td>\n",
       "    </tr>\n",
       "    <tr>\n",
       "      <th>118</th>\n",
       "      <td>0.360753</td>\n",
       "      <td>0.291769</td>\n",
       "      <td>0.068984</td>\n",
       "    </tr>\n",
       "    <tr>\n",
       "      <th>184</th>\n",
       "      <td>0.687400</td>\n",
       "      <td>0.931502</td>\n",
       "      <td>-0.244103</td>\n",
       "    </tr>\n",
       "    <tr>\n",
       "      <th>5</th>\n",
       "      <td>-1.310911</td>\n",
       "      <td>-0.515528</td>\n",
       "      <td>-0.795383</td>\n",
       "    </tr>\n",
       "    <tr>\n",
       "      <th>159</th>\n",
       "      <td>-0.215683</td>\n",
       "      <td>-0.203172</td>\n",
       "      <td>-0.012511</td>\n",
       "    </tr>\n",
       "    <tr>\n",
       "      <th>96</th>\n",
       "      <td>-0.446257</td>\n",
       "      <td>-0.030747</td>\n",
       "      <td>-0.415510</td>\n",
       "    </tr>\n",
       "    <tr>\n",
       "      <th>170</th>\n",
       "      <td>-1.080337</td>\n",
       "      <td>-1.133535</td>\n",
       "      <td>0.053199</td>\n",
       "    </tr>\n",
       "    <tr>\n",
       "      <th>172</th>\n",
       "      <td>-1.234053</td>\n",
       "      <td>-1.231226</td>\n",
       "      <td>-0.002827</td>\n",
       "    </tr>\n",
       "    <tr>\n",
       "      <th>152</th>\n",
       "      <td>0.495254</td>\n",
       "      <td>0.415284</td>\n",
       "      <td>0.079970</td>\n",
       "    </tr>\n",
       "  </tbody>\n",
       "</table>\n",
       "</div>"
      ],
      "text/plain": [
       "     Actual Values  Predicted Values  Residual Values\n",
       "187       0.629756          0.485105         0.144651\n",
       "67       -0.119610         -0.304583         0.184973\n",
       "15        1.609697          1.047117         0.562580\n",
       "196      -0.830548         -0.916625         0.086078\n",
       "104       1.283050          0.977250         0.305800\n",
       "149      -0.753690         -0.874394         0.120704\n",
       "6        -0.427043         -0.602547         0.175504\n",
       "165      -0.407828          0.578764        -0.986592\n",
       "23        0.283895          0.597719        -0.313825\n",
       "138      -0.849762         -0.887827         0.038065\n",
       "2        -0.907406         -0.523105        -0.384301\n",
       "43       -0.215683          0.228634        -0.444317\n",
       "123       0.226251         -0.018697         0.244948\n",
       "110      -0.119610          0.500815        -0.620426\n",
       "19        0.110964         -0.003669         0.114632\n",
       "161      -0.138825         -0.195421         0.056596\n",
       "128       2.051631          1.119031         0.932599\n",
       "139       1.283050          0.690364         0.592686\n",
       "62        0.322324          0.670425        -0.348102\n",
       "188       0.360753          0.969335        -0.608582\n",
       "41        0.591327          0.531358         0.059969\n",
       "144      -0.503901         -0.580448         0.076547\n",
       "82       -0.523115         -0.674284         0.151169\n",
       "42        1.283050          1.320577        -0.037528\n",
       "11        0.648971          0.546201         0.102770\n",
       "3         0.860330          0.540614         0.319716\n",
       "28        0.937188          0.983431        -0.046242\n",
       "81       -0.330970          0.469505        -0.800475\n",
       "108      -1.675987         -1.672751        -0.003235\n",
       "169       0.187822          0.894421        -0.706599\n",
       "195      -1.234053         -1.421459         0.187406\n",
       "72       -1.003478         -0.887460        -0.116019\n",
       "180      -0.676832         -0.407149        -0.269683\n",
       "177      -0.446257         -0.080181        -0.366076\n",
       "57       -0.158039         -0.210543         0.052504\n",
       "86       -0.388614         -0.572963         0.184350\n",
       "148      -0.599973         -0.660424         0.060451\n",
       "46       -0.657617         -0.752962         0.095345\n",
       "134      -0.619188         -0.513952        -0.105236\n",
       "17        1.993987          1.654996         0.338992\n",
       "105       0.994832          0.528219         0.466613\n",
       "129      -0.830548         -0.951081         0.120534\n",
       "118       0.360753          0.291769         0.068984\n",
       "184       0.687400          0.931502        -0.244103\n",
       "5        -1.310911         -0.515528        -0.795383\n",
       "159      -0.215683         -0.203172        -0.012511\n",
       "96       -0.446257         -0.030747        -0.415510\n",
       "170      -1.080337         -1.133535         0.053199\n",
       "172      -1.234053         -1.231226        -0.002827\n",
       "152       0.495254          0.415284         0.079970"
      ]
     },
     "execution_count": 21,
     "metadata": {},
     "output_type": "execute_result"
    }
   ],
   "source": [
    "weights = initialize_weights(X_test, random = True)\n",
    "y_hat_test = predict(X_test, weights)\n",
    "y_hat_test_df = pd.DataFrame({'Actual Values': y_test, 'Predicted Values': y_hat_test})\n",
    "y_hat_test_df['Residual Values'] = y_hat_test_df['Actual Values'] - y_hat_test_df['Predicted Values']\n",
    "y_hat_test_df"
   ]
  },
  {
   "cell_type": "code",
   "execution_count": 22,
   "id": "a82cf777",
   "metadata": {},
   "outputs": [
    {
     "data": {
      "text/plain": [
       "0.06940927621752278"
      ]
     },
     "execution_count": 22,
     "metadata": {},
     "output_type": "execute_result"
    }
   ],
   "source": [
    "# formula for getting the cost of the predicted values\n",
    "test_cost = compute_cost(X_test, y_test, weights)\n",
    "test_cost"
   ]
  },
  {
   "cell_type": "markdown",
   "id": "fd7aa387",
   "metadata": {},
   "source": [
    "Application Part 6: Predict the quantitative response y on the train set. Evaluate performance. You can use \n",
    "the MSE cost function defined for the gradient descent."
   ]
  },
  {
   "cell_type": "code",
   "execution_count": 23,
   "id": "ca769acb",
   "metadata": {},
   "outputs": [
    {
     "data": {
      "image/png": "[encoded data removed]",
      "text/plain": [
       "<Figure size 1080x576 with 1 Axes>"
      ]
     },
     "metadata": {
      "needs_background": "light"
     },
     "output_type": "display_data"
    }
   ],
   "source": [
    "weights = initialize_weights(X_train, random = True)\n",
    "\n",
    "# variable for alpha and iteration\n",
    "alpha = 0.01\n",
    "iterations = 10000 \n",
    "\n",
    "# running gradient descent algorithm for training and testing\n",
    "weights_matrix_training, cost_matrix_training = grad_descent(X_train, y_train, weights, alpha, iterations)\n",
    "weights_matrix_testing, cost_matrix_testing = grad_descent(X_test, y_test, weights, alpha, iterations)\n",
    "\n",
    "# predicting the quantitative response using the train set\n",
    "y_hat_train = predict(X_train, weights_matrix_training[-1])\n",
    "\n",
    "# plotting the actual and predicted response of the train set\n",
    "plt.figure(figsize=(15,8))\n",
    "plt.xlabel('Actual Quantitative Response')\n",
    "plt.ylabel('Predicted Quantitative Response')\n",
    "plt.title('Actual VS Predicted Quantitative Response on Train Set')\n",
    "plt.scatter(y_train, y_hat_train)\n",
    "plt.plot(y_train, y_train, color=\"black\")\n",
    "plt.text(0.5, 0.20, f\"Mean Squared Error: {mean_squared_error(y_train, y_hat_train)}\", color='red')\n",
    "plt.show()"
   ]
  },
  {
   "cell_type": "markdown",
   "id": "873013d7",
   "metadata": {},
   "source": [
    "Evaluation: We can see that the mean squared error is 0.77 This means that values closer to 0 indicates how accurate the model is meaning this model could be considered good since 0.77 is close to 0."
   ]
  },
  {
   "cell_type": "markdown",
   "id": "c03b773c",
   "metadata": {},
   "source": [
    "Application Part 7: predict the quantitative response y on the test set. Evaluate performance. Similarly, you can use the MSE cost function defined for the gradient descent."
   ]
  },
  {
   "cell_type": "code",
   "execution_count": 24,
   "id": "e20f3b2f",
   "metadata": {},
   "outputs": [
    {
     "data": {
      "image/png": "[encoded data removed]",
      "text/plain": [
       "<Figure size 1080x576 with 1 Axes>"
      ]
     },
     "metadata": {
      "needs_background": "light"
     },
     "output_type": "display_data"
    }
   ],
   "source": [
    "# predicting the quantitative response using the test set this time\n",
    "y_hat_test = predict(X_test, weights_matrix_training[-1])\n",
    "\n",
    "# plotting the actual and predicted response of the test set\n",
    "plt.figure(figsize=(15,8))\n",
    "plt.xlabel('Actual Quantitative Response')\n",
    "plt.ylabel('Predicted Quantitative Response')\n",
    "plt.title('Actual VS Predicted Quantitative Response on Test Set')\n",
    "plt.scatter(y_test, y_hat_test)\n",
    "plt.plot(y_test, y_test, color=\"black\")\n",
    "plt.text(0.5, 0.20, f\"Mean Squared Error: {mean_squared_error(y_test, y_hat_test)}\", color='green')\n",
    "plt.show()"
   ]
  },
  {
   "cell_type": "markdown",
   "id": "544e461a",
   "metadata": {},
   "source": [
    "Evaluation: The Mean squared error is 0.18. This means that the model has a good accuracy this time only that the mse in the dataset is greatyer than the train set indicating its not better."
   ]
  },
  {
   "cell_type": "markdown",
   "id": "c9addbf4",
   "metadata": {},
   "source": [
    "Application Part 8: Predict the sales on the actual data set this time."
   ]
  },
  {
   "cell_type": "code",
   "execution_count": 25,
   "id": "c890f14d",
   "metadata": {},
   "outputs": [
    {
     "data": {
      "text/html": [
       "<div>\n",
       "<style scoped>\n",
       "    .dataframe tbody tr th:only-of-type {\n",
       "        vertical-align: middle;\n",
       "    }\n",
       "\n",
       "    .dataframe tbody tr th {\n",
       "        vertical-align: top;\n",
       "    }\n",
       "\n",
       "    .dataframe thead th {\n",
       "        text-align: right;\n",
       "    }\n",
       "</style>\n",
       "<table border=\"1\" class=\"dataframe\">\n",
       "  <thead>\n",
       "    <tr style=\"text-align: right;\">\n",
       "      <th></th>\n",
       "      <th>TV</th>\n",
       "      <th>Radio</th>\n",
       "      <th>Newspaper</th>\n",
       "      <th>Sales</th>\n",
       "      <th>Predicted Sales</th>\n",
       "      <th>Residuals</th>\n",
       "    </tr>\n",
       "  </thead>\n",
       "  <tbody>\n",
       "    <tr>\n",
       "      <th>0</th>\n",
       "      <td>230.308426</td>\n",
       "      <td>37.836477</td>\n",
       "      <td>69.296979</td>\n",
       "      <td>22.120270</td>\n",
       "      <td>20.819279</td>\n",
       "      <td>1.300991</td>\n",
       "    </tr>\n",
       "    <tr>\n",
       "      <th>1</th>\n",
       "      <td>44.242678</td>\n",
       "      <td>39.340241</td>\n",
       "      <td>45.136502</td>\n",
       "      <td>10.390910</td>\n",
       "      <td>12.336201</td>\n",
       "      <td>-1.945291</td>\n",
       "    </tr>\n",
       "    <tr>\n",
       "      <th>2</th>\n",
       "      <td>16.874171</td>\n",
       "      <td>45.956803</td>\n",
       "      <td>69.397230</td>\n",
       "      <td>9.288149</td>\n",
       "      <td>12.408828</td>\n",
       "      <td>-3.120679</td>\n",
       "    </tr>\n",
       "    <tr>\n",
       "      <th>3</th>\n",
       "      <td>151.511186</td>\n",
       "      <td>41.345260</td>\n",
       "      <td>58.570128</td>\n",
       "      <td>18.511236</td>\n",
       "      <td>17.757845</td>\n",
       "      <td>0.753391</td>\n",
       "    </tr>\n",
       "    <tr>\n",
       "      <th>4</th>\n",
       "      <td>180.884712</td>\n",
       "      <td>10.768723</td>\n",
       "      <td>58.469877</td>\n",
       "      <td>12.897183</td>\n",
       "      <td>13.443203</td>\n",
       "      <td>-0.546019</td>\n",
       "    </tr>\n",
       "    <tr>\n",
       "      <th>...</th>\n",
       "      <td>...</td>\n",
       "      <td>...</td>\n",
       "      <td>...</td>\n",
       "      <td>...</td>\n",
       "      <td>...</td>\n",
       "      <td>...</td>\n",
       "    </tr>\n",
       "    <tr>\n",
       "      <th>195</th>\n",
       "      <td>37.926869</td>\n",
       "      <td>3.650906</td>\n",
       "      <td>13.757957</td>\n",
       "      <td>7.583883</td>\n",
       "      <td>5.264236</td>\n",
       "      <td>2.319647</td>\n",
       "    </tr>\n",
       "    <tr>\n",
       "      <th>196</th>\n",
       "      <td>94.067396</td>\n",
       "      <td>4.853917</td>\n",
       "      <td>8.043654</td>\n",
       "      <td>9.689153</td>\n",
       "      <td>8.069543</td>\n",
       "      <td>1.619610</td>\n",
       "    </tr>\n",
       "    <tr>\n",
       "      <th>197</th>\n",
       "      <td>177.075176</td>\n",
       "      <td>9.264959</td>\n",
       "      <td>6.339388</td>\n",
       "      <td>12.796932</td>\n",
       "      <td>12.738451</td>\n",
       "      <td>0.058481</td>\n",
       "    </tr>\n",
       "    <tr>\n",
       "      <th>198</th>\n",
       "      <td>283.942679</td>\n",
       "      <td>42.047016</td>\n",
       "      <td>66.289451</td>\n",
       "      <td>25.528802</td>\n",
       "      <td>24.079623</td>\n",
       "      <td>1.449178</td>\n",
       "    </tr>\n",
       "    <tr>\n",
       "      <th>199</th>\n",
       "      <td>232.313445</td>\n",
       "      <td>8.563202</td>\n",
       "      <td>8.645159</td>\n",
       "      <td>13.398438</td>\n",
       "      <td>15.186251</td>\n",
       "      <td>-1.787813</td>\n",
       "    </tr>\n",
       "  </tbody>\n",
       "</table>\n",
       "<p>200 rows × 6 columns</p>\n",
       "</div>"
      ],
      "text/plain": [
       "             TV      Radio  Newspaper      Sales  Predicted Sales  Residuals\n",
       "0    230.308426  37.836477  69.296979  22.120270        20.819279   1.300991\n",
       "1     44.242678  39.340241  45.136502  10.390910        12.336201  -1.945291\n",
       "2     16.874171  45.956803  69.397230   9.288149        12.408828  -3.120679\n",
       "3    151.511186  41.345260  58.570128  18.511236        17.757845   0.753391\n",
       "4    180.884712  10.768723  58.469877  12.897183        13.443203  -0.546019\n",
       "..          ...        ...        ...        ...              ...        ...\n",
       "195   37.926869   3.650906  13.757957   7.583883         5.264236   2.319647\n",
       "196   94.067396   4.853917   8.043654   9.689153         8.069543   1.619610\n",
       "197  177.075176   9.264959   6.339388  12.796932        12.738451   0.058481\n",
       "198  283.942679  42.047016  66.289451  25.528802        24.079623   1.449178\n",
       "199  232.313445   8.563202   8.645159  13.398438        15.186251  -1.787813\n",
       "\n",
       "[200 rows x 6 columns]"
      ]
     },
     "execution_count": 25,
     "metadata": {},
     "output_type": "execute_result"
    }
   ],
   "source": [
    "df_standardize\n",
    "\n",
    "#Add a new column which is the predicted sales\n",
    "df_standardize['Predicted Sales'] = predict(df_standardize[['all_ones', 'TV', 'Radio', 'Newspaper']], weights_matrix_training[-1])\n",
    "\n",
    "#Revert back the standardized data into the original form \n",
    "df_standardize['TV'] = df_standardize['TV'] * df['TV'].std() + df['TV'].mean()\n",
    "df_standardize['Radio'] = df_standardize['Radio'] * df['Radio'].std() + df['Radio'].mean()\n",
    "df_standardize['Newspaper'] = df_standardize['Newspaper'] * df['Newspaper'].std() + df['Newspaper'].mean()\n",
    "df_standardize['Sales'] = df_standardize['Sales'] * df['Sales'].std() + df['Sales'].mean()\n",
    "df_standardize['Predicted Sales'] = df_standardize['Predicted Sales'] * df['Sales'].std() + df['Sales'].mean()\n",
    "\n",
    "#Insert Residuals column\n",
    "df_standardize['Residuals'] = df_standardize['Sales'] - df_standardize['Predicted Sales']\n",
    "\n",
    "# Drop all_ones column\n",
    "df_standardize.drop('all_ones', axis = 1, inplace = True)\n",
    "\n",
    "df_standardize"
   ]
  },
  {
   "cell_type": "markdown",
   "id": "17543401",
   "metadata": {},
   "source": [
    "Application Part 9: Observe the cost results and analyse."
   ]
  },
  {
   "cell_type": "code",
   "execution_count": 26,
   "id": "64894ec8",
   "metadata": {},
   "outputs": [
    {
     "data": {
      "image/png": "[encoded data removed]",
      "text/plain": [
       "<Figure size 1080x576 with 1 Axes>"
      ]
     },
     "metadata": {
      "needs_background": "light"
     },
     "output_type": "display_data"
    }
   ],
   "source": [
    "plt.figure(figsize=(15,8))\n",
    "plt.plot(cost_matrix_training, label='Train Cost')\n",
    "plt.plot(cost_matrix_testing, label='Test Cost')\n",
    "plt.xlabel('Iterations')\n",
    "plt.ylabel('Cost')\n",
    "plt.title('Cost over Iterations')\n",
    "plt.legend()\n",
    "plt.show()"
   ]
  },
  {
   "cell_type": "markdown",
   "id": "4549be5a",
   "metadata": {},
   "source": [
    "What I can see here in the plot is that the model becomes less accurate if there is only less iterations."
   ]
  },
  {
   "cell_type": "markdown",
   "id": "cd6523f7",
   "metadata": {},
   "source": [
    "Additional Questions:"
   ]
  },
  {
   "cell_type": "markdown",
   "id": "af1137e4",
   "metadata": {},
   "source": [
    "1. What are the optimal weights found by your implemented gradient descent? Plug it into the linear model:\n",
    "What are your interpretations regarding the formed linear model?"
   ]
  },
  {
   "cell_type": "code",
   "execution_count": 38,
   "id": "0022d227",
   "metadata": {},
   "outputs": [
    {
     "name": "stdout",
     "output_type": "stream",
     "text": [
      "Optimal Weights: [0.00685464 0.76474242 0.52854139 0.01988962]\n",
      "hΘ(x) = 0.00685464018229659 + 0.7647424187049167*TV + 0.5285413893675475*Radio + 0.019889618222027287*Newspaper\n"
     ]
    }
   ],
   "source": [
    "w = initialize_weights(X_train)\n",
    "\n",
    "alpha = 0.01    \n",
    "iterations = 50000                                                  \n",
    "\n",
    "\n",
    "we, co = grad_descent(X_train, y_train, w, alpha, iterations)\n",
    "\n",
    "optimal_weights = we[-1]\n",
    "\n",
    "\n",
    "print(f\"Optimal Weights: {optimal_weights}\") #Printing the optimal weights\n",
    "\n",
    "#Plugging it into the linear model\n",
    "print(f\"hΘ(x) = {optimal_weights[0]} + {optimal_weights[1]}*TV + {optimal_weights[2]}*Radio + {optimal_weights[3]}*Newspaper\")"
   ]
  },
  {
   "cell_type": "markdown",
   "id": "206e21a8",
   "metadata": {},
   "source": [
    "2. Provide a scatter plot"
   ]
  },
  {
   "cell_type": "code",
   "execution_count": 44,
   "id": "a73270ec",
   "metadata": {},
   "outputs": [
    {
     "data": {
      "image/png": "[encoded data removed]",
      "text/plain": [
       "<Figure size 432x288 with 1 Axes>"
      ]
     },
     "metadata": {
      "needs_background": "light"
     },
     "output_type": "display_data"
    }
   ],
   "source": [
    "# train set actual values vs predicted\n",
    "predict_train = predict(X_train, optimal_weights)\n",
    "plt.scatter(y_train, predict_train)\n",
    "plt.xlabel('Actual y values')\n",
    "plt.ylabel('Predicted y values')\n",
    "plt.title('Actual y values VS Predicted y values in Train Set)')\n",
    "plt.plot(y_train, y_train, color='Black')\n",
    "plt.show()"
   ]
  },
  {
   "cell_type": "markdown",
   "id": "2a5f26a1",
   "metadata": {},
   "source": [
    "Is there a trend? Provide an r2 score"
   ]
  },
  {
   "cell_type": "code",
   "execution_count": 40,
   "id": "fd860b8e",
   "metadata": {},
   "outputs": [
    {
     "name": "stdout",
     "output_type": "stream",
     "text": [
      "The r2 score is 0.900351707212063\n"
     ]
    }
   ],
   "source": [
    "print(f\"The r2 score is {r2_score(y_train, predict_train)}\")"
   ]
  },
  {
   "cell_type": "code",
   "execution_count": 45,
   "id": "c14b0ab6",
   "metadata": {},
   "outputs": [
    {
     "data": {
      "image/png": "[encoded data removed]",
      "text/plain": [
       "<Figure size 432x288 with 1 Axes>"
      ]
     },
     "metadata": {
      "needs_background": "light"
     },
     "output_type": "display_data"
    }
   ],
   "source": [
    "#test set actual value vs predicted value\n",
    "predict_test = predict(X_test, optimal_weights)\n",
    "plt.scatter(y_test, predict_test)\n",
    "plt.xlabel('Actual y values')\n",
    "plt.ylabel('Predicted y values')\n",
    "plt.title('Actual y values VS Predicted y values in Train Set)')\n",
    "plt.plot(y_test, y_test, color='black')\n",
    "plt.show()"
   ]
  },
  {
   "cell_type": "code",
   "execution_count": 46,
   "id": "3e19bd9d",
   "metadata": {},
   "outputs": [
    {
     "name": "stdout",
     "output_type": "stream",
     "text": [
      "The r2 score is 0.8794849323388011\n"
     ]
    }
   ],
   "source": [
    "print(f\"The r2 score is {r2_score(y_test, predict_test)}\")"
   ]
  },
  {
   "cell_type": "markdown",
   "id": "67dffe9a",
   "metadata": {},
   "source": [
    "3. What happens to the error, r2, and cost as the number of iterations increase? Show your \n",
    "data and proof. You can alternatively plot your result data for visualization and check \n",
    "until 50000 iterations or more (actually)"
   ]
  },
  {
   "cell_type": "code",
   "execution_count": 30,
   "id": "8107d58f",
   "metadata": {},
   "outputs": [
    {
     "data": {
      "image/png": "[encoded data removed]",
      "text/plain": [
       "<Figure size 1080x576 with 1 Axes>"
      ]
     },
     "metadata": {
      "needs_background": "light"
     },
     "output_type": "display_data"
    }
   ],
   "source": [
    "MSE_arr = []\n",
    "for j in range(iterations):\n",
    "    MSE = mean_squared_error(y_train, predict(X_train, we[j]))\n",
    "    MSE_arr.append(MSE)\n",
    "\n",
    "\n",
    "plt.figure(figsize=(15,8))\n",
    "plt.plot(MSE_arr[0:1000])\n",
    "plt.xlabel('Iterations')\n",
    "plt.ylabel('MSE')\n",
    "plt.xticks(np.arange(0, 1000, 100))\n",
    "plt.show()"
   ]
  },
  {
   "cell_type": "code",
   "execution_count": 31,
   "id": "f91b10a4",
   "metadata": {},
   "outputs": [
    {
     "data": {
      "image/png": "[encoded data removed]",
      "text/plain": [
       "<Figure size 1080x576 with 1 Axes>"
      ]
     },
     "metadata": {
      "needs_background": "light"
     },
     "output_type": "display_data"
    },
    {
     "name": "stdout",
     "output_type": "stream",
     "text": [
      "The maximum r^2 score is 0.9003517072120631\n"
     ]
    }
   ],
   "source": [
    "r2_arr = []\n",
    "for j in range(iterations):\n",
    "    r2 = r2_score(y_train, predict(X_train, we[j]))\n",
    "    r2_arr.append(r2)\n",
    "\n",
    "plt.figure(figsize=(15,8))\n",
    "plt.plot(r2_arr)\n",
    "plt.xlabel('Iterations')\n",
    "plt.ylabel('r^2 score')\n",
    "plt.title('r^2 score over Iterations')\n",
    "plt.yticks(np.arange(0, 1, 0.05))\n",
    "plt.axhline(y=max(r2_arr), color='black')\n",
    "plt.show()\n",
    "\n",
    "print(f\"The maximum r^2 score is {max(r2_arr)}\")"
   ]
  },
  {
   "cell_type": "code",
   "execution_count": 32,
   "id": "ee4cc2b3",
   "metadata": {},
   "outputs": [
    {
     "data": {
      "image/png": "[encoded data removed]",
      "text/plain": [
       "<Figure size 1080x576 with 1 Axes>"
      ]
     },
     "metadata": {
      "needs_background": "light"
     },
     "output_type": "display_data"
    }
   ],
   "source": [
    "# cost over iterations plot\n",
    "plot_costs(co)"
   ]
  },
  {
   "cell_type": "code",
   "execution_count": 33,
   "id": "000ec812",
   "metadata": {},
   "outputs": [
    {
     "name": "stdout",
     "output_type": "stream",
     "text": [
      "The optimal number of iterations is 2961\n"
     ]
    }
   ],
   "source": [
    "# number of optimal iterations\n",
    "def optimal_iterations(max_r2, r2_arr):\n",
    "    for j in range(len(r2_arr)):\n",
    "        if r2_arr[j] == max_r2:\n",
    "            return j\n",
    "\n",
    "optimal_num = optimal_iterations(max(r2_arr), r2_arr)\n",
    "print(f\"The optimal number of iterations is {optimal_num}\")"
   ]
  },
  {
   "cell_type": "code",
   "execution_count": 34,
   "id": "277a9f66",
   "metadata": {},
   "outputs": [
    {
     "name": "stdout",
     "output_type": "stream",
     "text": [
      "The cost at the optimal number of iterations is 0.05402852752949377\n",
      "The weights at the optimal number of iterations are [0.00685464 0.76474242 0.52854139 0.01988962]\n",
      "\n",
      "The cost at the last iteration is 0.054028527529493775\n",
      "The weights at the last iteration are [0.00685464 0.76474242 0.52854139 0.01988962]\n"
     ]
    }
   ],
   "source": [
    "# determining the cost and weights at the optimal iterations and \n",
    "print(f\"The cost at the optimal number of iterations is {co[optimal_num]}\")\n",
    "print(f\"The weights at the optimal number of iterations are {we[optimal_num]}\\n\")\n",
    "#Last iteration\n",
    "print(f\"The cost at the last iteration is {co[-1]}\")\n",
    "print(f\"The weights at the last iteration are {we[-1]}\")"
   ]
  },
  {
   "cell_type": "code",
   "execution_count": 35,
   "id": "3d633b7d",
   "metadata": {},
   "outputs": [
    {
     "data": {
      "image/png": "[encoded data removed]",
      "text/plain": [
       "<Figure size 1080x576 with 1 Axes>"
      ]
     },
     "metadata": {
      "needs_background": "light"
     },
     "output_type": "display_data"
    }
   ],
   "source": [
    "#Optimized Gradient Descent Algorithm\n",
    "def optimized_gda(X, y, weights, alpha, iterations, diff_threshold):\n",
    "    last_iter = 0\n",
    "    we = []\n",
    "    co = []\n",
    "\n",
    "    for j in range(iterations):\n",
    "        weights = update_weights(X, y, weights, alpha)\n",
    "        we.append(weights)\n",
    "        cost = compute_cost(X, y, weights)\n",
    "        co.append(cost)\n",
    "\n",
    "        if j > 0 and diff_threshold > abs(co[j] - co[j - 1]):\n",
    "            last_iter = j\n",
    "            break\n",
    "        last_iter = j\n",
    "    \n",
    "    return we, co, last_iter\n",
    "\n",
    "iterations = 50000\n",
    "alpha = 0.01\n",
    "\n",
    "diff_threshold = 1.0e-15\n",
    "\n",
    "we, co, optimal_iterations = optimized_gda(X_train, y_train, w, alpha, iterations, diff_threshold)\n",
    "\n",
    "plot_costs(co)"
   ]
  },
  {
   "cell_type": "markdown",
   "id": "b9ebbaab",
   "metadata": {},
   "source": [
    "4 . Once you determine the optimal number of iterations, check the effect on the cost and \n",
    "error as you change the learning rate. The common learning rates in machine learning \n",
    "include 0.1, 0.01, 0.001, 0.0001, 0.2 but you have the option to include others. Visualize\n",
    "the cost function (vs the optimal number of iterations) of each learning rate in ONLY ONE \n",
    "PLOT. Provide your analysis."
   ]
  },
  {
   "cell_type": "code",
   "execution_count": 36,
   "id": "786ea823",
   "metadata": {},
   "outputs": [
    {
     "data": {
      "image/png": "[encoded data removed]",
      "text/plain": [
       "<Figure size 1296x432 with 1 Axes>"
      ]
     },
     "metadata": {
      "needs_background": "light"
     },
     "output_type": "display_data"
    }
   ],
   "source": [
    "w = initialize_weights(X_train)\n",
    "\n",
    "iterations = optimal_iterations\n",
    "\n",
    "learning_rates = [0.1, 0.01, 0.001, 0.0001, 0.2]\n",
    "\n",
    "cost_dict = {j:0 for j in learning_rates}\n",
    "error_dict = {j:0 for j in learning_rates}\n",
    "co_dict = {j:[] for j in learning_rates}\n",
    "\n",
    "for alpha in learning_rates:\n",
    "    we, co = grad_descent(X_train, y_train, w, alpha, iterations)\n",
    "    cost_dict[alpha] = co[-1]\n",
    "    from sklearn.metrics import mean_squared_error\n",
    "    error_dict[alpha] = mean_squared_error(y_train, predict(X_train, we[-1]))\n",
    "    co_dict[alpha] = co\n",
    "\n",
    "plt.figure(figsize=(18,6))\n",
    "for alpha in learning_rates:\n",
    "    plt.plot(co_dict[alpha], label = alpha)\n",
    "plt.xlabel('Iterations')\n",
    "plt.ylabel('Cost')\n",
    "plt.title('Cost over iterations for each learning rate')\n",
    "plt.legend()\n",
    "plt.show()"
   ]
  },
  {
   "cell_type": "code",
   "execution_count": 37,
   "id": "e967feb6",
   "metadata": {},
   "outputs": [
    {
     "data": {
      "text/html": [
       "<div>\n",
       "<style scoped>\n",
       "    .dataframe tbody tr th:only-of-type {\n",
       "        vertical-align: middle;\n",
       "    }\n",
       "\n",
       "    .dataframe tbody tr th {\n",
       "        vertical-align: top;\n",
       "    }\n",
       "\n",
       "    .dataframe thead th {\n",
       "        text-align: right;\n",
       "    }\n",
       "</style>\n",
       "<table border=\"1\" class=\"dataframe\">\n",
       "  <thead>\n",
       "    <tr style=\"text-align: right;\">\n",
       "      <th></th>\n",
       "      <th>Learning Rate</th>\n",
       "      <th>Cost</th>\n",
       "      <th>Error</th>\n",
       "    </tr>\n",
       "  </thead>\n",
       "  <tbody>\n",
       "    <tr>\n",
       "      <th>0</th>\n",
       "      <td>0.1000</td>\n",
       "      <td>0.054029</td>\n",
       "      <td>0.108057</td>\n",
       "    </tr>\n",
       "    <tr>\n",
       "      <th>1</th>\n",
       "      <td>0.0100</td>\n",
       "      <td>0.054029</td>\n",
       "      <td>0.108057</td>\n",
       "    </tr>\n",
       "    <tr>\n",
       "      <th>2</th>\n",
       "      <td>0.0010</td>\n",
       "      <td>0.060055</td>\n",
       "      <td>0.120110</td>\n",
       "    </tr>\n",
       "    <tr>\n",
       "      <th>3</th>\n",
       "      <td>0.0001</td>\n",
       "      <td>0.342502</td>\n",
       "      <td>0.685004</td>\n",
       "    </tr>\n",
       "    <tr>\n",
       "      <th>4</th>\n",
       "      <td>0.2000</td>\n",
       "      <td>0.054029</td>\n",
       "      <td>0.108057</td>\n",
       "    </tr>\n",
       "  </tbody>\n",
       "</table>\n",
       "</div>"
      ],
      "text/plain": [
       "   Learning Rate      Cost     Error\n",
       "0         0.1000  0.054029  0.108057\n",
       "1         0.0100  0.054029  0.108057\n",
       "2         0.0010  0.060055  0.120110\n",
       "3         0.0001  0.342502  0.685004\n",
       "4         0.2000  0.054029  0.108057"
      ]
     },
     "execution_count": 37,
     "metadata": {},
     "output_type": "execute_result"
    }
   ],
   "source": [
    "learning_rates = pd.DataFrame({'Learning Rate': list(cost_dict.keys()), 'Cost': list(cost_dict.values()), 'Error': list(error_dict.values())})\n",
    "learning_rates"
   ]
  },
  {
   "cell_type": "markdown",
   "id": "fa70e961",
   "metadata": {},
   "source": [
    "5. Is there a relationship on the learning rate and the number of iterations?"
   ]
  },
  {
   "cell_type": "code",
   "execution_count": null,
   "id": "9bb778a4",
   "metadata": {},
   "outputs": [],
   "source": [
    "w = initialize_weights(X_train)\n",
    "\n",
    "iterations = 1_000_000\n",
    "\n",
    "learning_rates = [0.1, 0.01, 0.001, 0.0001, 0.2]\n",
    "\n",
    "cost_dict = {j:0 for j in learning_rates}\n",
    "error_dict = {j:0 for j in learning_rates}\n",
    "co_dict = {j:[] for j in learning_rates}\n",
    "opt_dict = {j:0 for j in learning_rates}\n",
    "\n",
    "diff_threshold = 1.0e-15\n",
    "\n",
    "for alpha in learning_rates:\n",
    "    we, co, optimal_iterations = optimized_gda(X_train, y_train, w, alpha, iterations, diff_threshold)\n",
    "\n",
    "    cost_dict[alpha] = co[-1]\n",
    "    from sklearn.metrics import mean_squared_error\n",
    "    error_dict[alpha] = mean_squared_error(y_train, predict(X_train, we[-1]))\n",
    "    co_dict[alpha] = co\n",
    "    opt_dict[alpha] = optimal_iterations"
   ]
  },
  {
   "cell_type": "code",
   "execution_count": null,
   "id": "dbc1d561",
   "metadata": {},
   "outputs": [],
   "source": [
    "    plt.figure(figsize=(18,6))\n",
    "    for alpha in learning_rates:\n",
    "        plt.plot(co_dict[alpha], label = alpha)\n",
    "    plt.xlabel('Iterations')\n",
    "    plt.ylabel('Cost')\n",
    "    plt.title('Cost over iterations for each learning rate')\n",
    "    plt.legend()\n",
    "    plt.show()"
   ]
  },
  {
   "cell_type": "markdown",
   "id": "7f3ef134",
   "metadata": {},
   "source": [
    " 6. Compare the results with the results of ordinary least squares function. "
   ]
  },
  {
   "cell_type": "code",
   "execution_count": null,
   "id": "677d30fc",
   "metadata": {},
   "outputs": [],
   "source": [
    "from sklearn.linear_model import LinearRegression\n",
    "ordinary_least_squares = LinearRegression()\n",
    "ordinary_least_squares.fit(X_train, y_train).coef_\n",
    "r2_OLS = r2_score(y_train, ordinary_least_squares.predict(X_train))\n",
    "r2_GDA = r2_arr[-1]\n",
    "\n",
    "print(f\"The results of OLS is {r2_OLS}\")\n",
    "print(f\"The results of GDA is {r2_GDA}\")"
   ]
  },
  {
   "cell_type": "code",
   "execution_count": null,
   "id": "e15aad10",
   "metadata": {},
   "outputs": [],
   "source": []
  }
 ],
 "metadata": {
  "kernelspec": {
   "display_name": "Python 3 (ipykernel)",
   "language": "python",
   "name": "python3"
  },
  "language_info": {
   "codemirror_mode": {
    "name": "ipython",
    "version": 3
   },
   "file_extension": ".py",
   "mimetype": "text/x-python",
   "name": "python",
   "nbconvert_exporter": "python",
   "pygments_lexer": "ipython3",
   "version": "3.9.12"
  }
 },
 "nbformat": 4,
 "nbformat_minor": 5
}
