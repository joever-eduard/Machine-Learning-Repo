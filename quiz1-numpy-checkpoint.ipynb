{
 "cells": [
  {
   "cell_type": "code",
   "execution_count": 5,
   "id": "8df01a52",
   "metadata": {},
   "outputs": [
    {
     "name": "stdout",
     "output_type": "stream",
     "text": [
      "%pylab is deprecated, use %matplotlib inline and import the required libraries.\n",
      "Populating the interactive namespace from numpy and matplotlib\n"
     ]
    }
   ],
   "source": [
    "#Load numpy and matplotlib\n",
    "%pylab inline"
   ]
  },
  {
   "cell_type": "code",
   "execution_count": 7,
   "id": "fdf76486",
   "metadata": {},
   "outputs": [
    {
     "data": {
      "text/plain": [
       "array([-1.        , -0.89473684, -0.78947368, -0.68421053, -0.57894737,\n",
       "       -0.47368421, -0.36842105, -0.26315789, -0.15789474, -0.05263158,\n",
       "        0.05263158,  0.15789474,  0.26315789,  0.36842105,  0.47368421,\n",
       "        0.57894737,  0.68421053,  0.78947368,  0.89473684,  1.        ])"
      ]
     },
     "execution_count": 7,
     "metadata": {},
     "output_type": "execute_result"
    }
   ],
   "source": [
    "#linearly spaced numbers from -1 to 1\n",
    "y_hat = np.linspace(-1,1,num=20)\n",
    "y_hat"
   ]
  },
  {
   "cell_type": "code",
   "execution_count": 9,
   "id": "4e17d642",
   "metadata": {},
   "outputs": [
    {
     "data": {
      "text/plain": [
       "array([0.        , 0.05263158, 0.10526316, 0.15789474, 0.21052632,\n",
       "       0.26315789, 0.31578947, 0.36842105, 0.42105263, 0.47368421,\n",
       "       0.52631579, 0.57894737, 0.63157895, 0.68421053, 0.73684211,\n",
       "       0.78947368, 0.84210526, 0.89473684, 0.94736842, 1.        ])"
      ]
     },
     "execution_count": 9,
     "metadata": {},
     "output_type": "execute_result"
    }
   ],
   "source": [
    "#linearly spaced numbers from 0 to 1\n",
    "y = np.linspace(0,1,num=20)\n",
    "y"
   ]
  },
  {
   "cell_type": "code",
   "execution_count": 13,
   "id": "0a7acb9d",
   "metadata": {},
   "outputs": [
    {
     "data": {
      "text/plain": [
       "(20,)"
      ]
     },
     "execution_count": 13,
     "metadata": {},
     "output_type": "execute_result"
    }
   ],
   "source": [
    "#computing for y_hat shape\n",
    "y_hat.shape"
   ]
  },
  {
   "cell_type": "code",
   "execution_count": 14,
   "id": "f54d84ec",
   "metadata": {},
   "outputs": [
    {
     "data": {
      "text/plain": [
       "(20,)"
      ]
     },
     "execution_count": 14,
     "metadata": {},
     "output_type": "execute_result"
    }
   ],
   "source": [
    "#computing for y shape\n",
    "y.shape"
   ]
  },
  {
   "cell_type": "code",
   "execution_count": 15,
   "id": "d6636021",
   "metadata": {},
   "outputs": [
    {
     "data": {
      "text/plain": [
       "1"
      ]
     },
     "execution_count": 15,
     "metadata": {},
     "output_type": "execute_result"
    }
   ],
   "source": [
    "#computing for y_hat dimension\n",
    "y_hat.ndim"
   ]
  },
  {
   "cell_type": "code",
   "execution_count": 16,
   "id": "df31c1ae",
   "metadata": {},
   "outputs": [
    {
     "data": {
      "text/plain": [
       "1"
      ]
     },
     "execution_count": 16,
     "metadata": {},
     "output_type": "execute_result"
    }
   ],
   "source": [
    "#computing for y dimension\n",
    "y.ndim"
   ]
  },
  {
   "cell_type": "code",
   "execution_count": 46,
   "id": "340d8eea",
   "metadata": {},
   "outputs": [],
   "source": [
    "#mse function\n",
    "def mse(y_hat,y):\n",
    "    return np.square(y_hat - y).mean()\n",
    "\n",
    "Lmse = mse(y_hat,y)"
   ]
  },
  {
   "cell_type": "code",
   "execution_count": 48,
   "id": "81cab350",
   "metadata": {},
   "outputs": [
    {
     "name": "stdout",
     "output_type": "stream",
     "text": [
      "0.3421052631578948\n"
     ]
    }
   ],
   "source": [
    "print(Lmse)"
   ]
  },
  {
   "cell_type": "code",
   "execution_count": 56,
   "id": "1d00508b",
   "metadata": {},
   "outputs": [],
   "source": [
    "#mae function\n",
    "def mae(y_hat,y):\n",
    "    return np.abs(y_hat - y).mean()\n",
    "\n",
    "Lmae = mae(y_hat,y)"
   ]
  },
  {
   "cell_type": "code",
   "execution_count": 50,
   "id": "faf272f7",
   "metadata": {},
   "outputs": [
    {
     "name": "stdout",
     "output_type": "stream",
     "text": [
      "0.4999999999999999\n"
     ]
    }
   ],
   "source": [
    "print(Lmae)"
   ]
  },
  {
   "cell_type": "code",
   "execution_count": 59,
   "id": "4e4b22a9",
   "metadata": {},
   "outputs": [
    {
     "name": "stderr",
     "output_type": "stream",
     "text": [
      "C:\\Users\\Joever Eduard\\AppData\\Local\\Temp\\ipykernel_15444\\3731418453.py:4: RuntimeWarning: divide by zero encountered in log\n",
      "  return np.square(np.log(y_hat+1) - np.log(y+1)).mean()\n"
     ]
    }
   ],
   "source": [
    "#msle function\n",
    "#it shows runtime warning because there is a limitation that log(0) cannot be true.\n",
    "def msle(y_hat,y):\n",
    "    return np.square(np.log(y_hat+1) - np.log(y+1)).mean()\n",
    "\n",
    "Lmsle = msle(y_hat,y)"
   ]
  },
  {
   "cell_type": "code",
   "execution_count": 60,
   "id": "57d5aa1d",
   "metadata": {},
   "outputs": [
    {
     "name": "stderr",
     "output_type": "stream",
     "text": [
      "C:\\Users\\Joever Eduard\\AppData\\Local\\Temp\\ipykernel_15444\\1989422595.py:3: RuntimeWarning: divide by zero encountered in true_divide\n",
      "  return np.mean(np.abs((y_hat - y)/y))*100\n"
     ]
    }
   ],
   "source": [
    "#mape function\n",
    "#it shows runtime warning because there is a limitation in the function causing it to error.\n",
    "def mape(y_hat,y):\n",
    "    return np.mean(np.abs((y_hat - y)/y))*100\n",
    "\n",
    "Lmape = mape(y_hat,y)"
   ]
  },
  {
   "cell_type": "code",
   "execution_count": 63,
   "id": "3f9d8706",
   "metadata": {},
   "outputs": [
    {
     "data": {
      "text/plain": [
       "array([ 1,  2,  3,  4,  5,  6,  7,  8,  9, 10, 11, 12, 13, 14, 15, 16])"
      ]
     },
     "execution_count": 63,
     "metadata": {},
     "output_type": "execute_result"
    }
   ],
   "source": [
    "M = np.arange(1,17)\n",
    "M"
   ]
  },
  {
   "cell_type": "code",
   "execution_count": 64,
   "id": "dd7f5657",
   "metadata": {},
   "outputs": [
    {
     "data": {
      "text/plain": [
       "array([[ 1,  2,  3,  4],\n",
       "       [ 5,  6,  7,  8],\n",
       "       [ 9, 10, 11, 12],\n",
       "       [13, 14, 15, 16]])"
      ]
     },
     "execution_count": 64,
     "metadata": {},
     "output_type": "execute_result"
    }
   ],
   "source": [
    "N = M.reshape(4,4)\n",
    "N"
   ]
  },
  {
   "cell_type": "code",
   "execution_count": 66,
   "id": "da66ea48",
   "metadata": {},
   "outputs": [
    {
     "data": {
      "text/plain": [
       "array([5, 6, 7, 8])"
      ]
     },
     "execution_count": 66,
     "metadata": {},
     "output_type": "execute_result"
    }
   ],
   "source": [
    "N[1,0:4]"
   ]
  },
  {
   "cell_type": "code",
   "execution_count": 67,
   "id": "1d209a1c",
   "metadata": {},
   "outputs": [
    {
     "data": {
      "text/plain": [
       "array([1, 2, 3, 4])"
      ]
     },
     "execution_count": 67,
     "metadata": {},
     "output_type": "execute_result"
    }
   ],
   "source": [
    "np.min(N, axis = 0)"
   ]
  },
  {
   "cell_type": "code",
   "execution_count": 79,
   "id": "a5337bd8",
   "metadata": {},
   "outputs": [
    {
     "data": {
      "text/plain": [
       "array([0, 0, 0, 0], dtype=int64)"
      ]
     },
     "execution_count": 79,
     "metadata": {},
     "output_type": "execute_result"
    }
   ],
   "source": [
    "np.argmin(N, axis = 0)"
   ]
  },
  {
   "cell_type": "code",
   "execution_count": 69,
   "id": "29de395c",
   "metadata": {},
   "outputs": [
    {
     "data": {
      "text/plain": [
       "8.5"
      ]
     },
     "execution_count": 69,
     "metadata": {},
     "output_type": "execute_result"
    }
   ],
   "source": [
    "np.mean(N)"
   ]
  },
  {
   "cell_type": "code",
   "execution_count": 71,
   "id": "aee294c6",
   "metadata": {},
   "outputs": [
    {
     "data": {
      "text/plain": [
       "array([1, 1, 1, 1])"
      ]
     },
     "execution_count": 71,
     "metadata": {},
     "output_type": "execute_result"
    }
   ],
   "source": [
    "V = np.array([1,1,1,1])\n",
    "V"
   ]
  },
  {
   "cell_type": "code",
   "execution_count": 72,
   "id": "04887997",
   "metadata": {},
   "outputs": [
    {
     "data": {
      "text/plain": [
       "array([10, 26, 42, 58])"
      ]
     },
     "execution_count": 72,
     "metadata": {},
     "output_type": "execute_result"
    }
   ],
   "source": [
    "np.dot(N,V)"
   ]
  },
  {
   "cell_type": "code",
   "execution_count": null,
   "id": "39c0e2a4",
   "metadata": {},
   "outputs": [],
   "source": []
  }
 ],
 "metadata": {
  "kernelspec": {
   "display_name": "Python 3 (ipykernel)",
   "language": "python",
   "name": "python3"
  },
  "language_info": {
   "codemirror_mode": {
    "name": "ipython",
    "version": 3
   },
   "file_extension": ".py",
   "mimetype": "text/x-python",
   "name": "python",
   "nbconvert_exporter": "python",
   "pygments_lexer": "ipython3",
   "version": "3.9.12"
  }
 },
 "nbformat": 4,
 "nbformat_minor": 5
}
